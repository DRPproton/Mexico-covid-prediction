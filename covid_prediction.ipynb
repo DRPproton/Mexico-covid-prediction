{
 "cells": [
  {
   "cell_type": "markdown",
   "id": "75e76a23-95a0-4b72-b0d0-fc7331b50bae",
   "metadata": {},
   "source": [
    "### Importing Libraries for data exploration"
   ]
  },
  {
   "cell_type": "code",
   "execution_count": 1,
   "id": "074d2c7a-4be7-40c5-9e05-c7fe386335bd",
   "metadata": {},
   "outputs": [],
   "source": [
    "import pandas as pd\n",
    "import numpy as np\n",
    "import matplotlib.pyplot as plt\n",
    "import seaborn as sns\n",
    "sns.set(style='darkgrid')"
   ]
  },
  {
   "cell_type": "code",
   "execution_count": 2,
   "id": "b327d910-e5bb-4a8b-beaf-73bd767bd4f3",
   "metadata": {},
   "outputs": [],
   "source": [
    "import warnings\n",
    "warnings.filterwarnings(action='ignore')"
   ]
  },
  {
   "cell_type": "code",
   "execution_count": 3,
   "id": "38cd5931-5be8-4d20-883e-6a25c70ffe8a",
   "metadata": {},
   "outputs": [],
   "source": [
    "df = pd.read_csv('covid_data_mex.csv')"
   ]
  },
  {
   "cell_type": "code",
   "execution_count": null,
   "id": "b9940c4e-8b11-47e8-a7ed-e906230f8743",
   "metadata": {},
   "outputs": [],
   "source": []
  }
 ],
 "metadata": {
  "kernelspec": {
   "display_name": "Python 3 (ipykernel)",
   "language": "python",
   "name": "python3"
  },
  "language_info": {
   "codemirror_mode": {
    "name": "ipython",
    "version": 3
   },
   "file_extension": ".py",
   "mimetype": "text/x-python",
   "name": "python",
   "nbconvert_exporter": "python",
   "pygments_lexer": "ipython3",
   "version": "3.10.12"
  }
 },
 "nbformat": 4,
 "nbformat_minor": 5
}
