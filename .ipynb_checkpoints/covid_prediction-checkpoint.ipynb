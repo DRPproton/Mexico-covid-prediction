{
 "cells": [
  {
   "cell_type": "markdown",
   "id": "75e76a23-95a0-4b72-b0d0-fc7331b50bae",
   "metadata": {},
   "source": [
    "### Importing Libraries for data exploration"
   ]
  },
  {
   "cell_type": "code",
   "execution_count": 1,
   "id": "074d2c7a-4be7-40c5-9e05-c7fe386335bd",
   "metadata": {},
   "outputs": [],
   "source": [
    "import pandas as pd\n",
    "import numpy as np\n",
    "import matplotlib.pyplot as plt\n",
    "import seaborn as sns\n",
    "sns.set(style='darkgrid')"
   ]
  },
  {
   "cell_type": "code",
   "execution_count": 2,
   "id": "b327d910-e5bb-4a8b-beaf-73bd767bd4f3",
   "metadata": {},
   "outputs": [],
   "source": [
    "import warnings\n",
    "warnings.filterwarnings(action='ignore')"
   ]
  },
  {
   "cell_type": "code",
   "execution_count": 3,
   "id": "38cd5931-5be8-4d20-883e-6a25c70ffe8a",
   "metadata": {},
   "outputs": [],
   "source": [
    "df = pd.read_csv('covid_data_mex.csv')"
   ]
  },
  {
   "cell_type": "markdown",
   "id": "5ea2e050-8306-446e-a0ec-2db2d366052a",
   "metadata": {},
   "source": [
    "### Data exploration"
   ]
  },
  {
   "cell_type": "code",
   "execution_count": 4,
   "id": "754814f1-549b-433f-b1fa-012c5a603e98",
   "metadata": {},
   "outputs": [
    {
     "data": {
      "text/html": [
       "<div>\n",
       "<style scoped>\n",
       "    .dataframe tbody tr th:only-of-type {\n",
       "        vertical-align: middle;\n",
       "    }\n",
       "\n",
       "    .dataframe tbody tr th {\n",
       "        vertical-align: top;\n",
       "    }\n",
       "\n",
       "    .dataframe thead th {\n",
       "        text-align: right;\n",
       "    }\n",
       "</style>\n",
       "<table border=\"1\" class=\"dataframe\">\n",
       "  <thead>\n",
       "    <tr style=\"text-align: right;\">\n",
       "      <th></th>\n",
       "      <th>sexo</th>\n",
       "      <th>neumonia</th>\n",
       "      <th>edad</th>\n",
       "      <th>diabetes</th>\n",
       "      <th>epoc</th>\n",
       "      <th>inmusupr</th>\n",
       "      <th>hipertension</th>\n",
       "      <th>cardiovascular</th>\n",
       "      <th>obesidad</th>\n",
       "      <th>renal_cronica</th>\n",
       "      <th>decease</th>\n",
       "    </tr>\n",
       "  </thead>\n",
       "  <tbody>\n",
       "    <tr>\n",
       "      <th>0</th>\n",
       "      <td>female</td>\n",
       "      <td>no</td>\n",
       "      <td>36</td>\n",
       "      <td>yes</td>\n",
       "      <td>no</td>\n",
       "      <td>no</td>\n",
       "      <td>no</td>\n",
       "      <td>no</td>\n",
       "      <td>no</td>\n",
       "      <td>no</td>\n",
       "      <td>0</td>\n",
       "    </tr>\n",
       "    <tr>\n",
       "      <th>1</th>\n",
       "      <td>female</td>\n",
       "      <td>no</td>\n",
       "      <td>63</td>\n",
       "      <td>no</td>\n",
       "      <td>no</td>\n",
       "      <td>no</td>\n",
       "      <td>no</td>\n",
       "      <td>yes</td>\n",
       "      <td>no</td>\n",
       "      <td>no</td>\n",
       "      <td>0</td>\n",
       "    </tr>\n",
       "    <tr>\n",
       "      <th>2</th>\n",
       "      <td>female</td>\n",
       "      <td>no</td>\n",
       "      <td>18</td>\n",
       "      <td>no</td>\n",
       "      <td>no</td>\n",
       "      <td>no</td>\n",
       "      <td>no</td>\n",
       "      <td>no</td>\n",
       "      <td>no</td>\n",
       "      <td>no</td>\n",
       "      <td>0</td>\n",
       "    </tr>\n",
       "    <tr>\n",
       "      <th>3</th>\n",
       "      <td>female</td>\n",
       "      <td>no</td>\n",
       "      <td>33</td>\n",
       "      <td>no</td>\n",
       "      <td>no</td>\n",
       "      <td>no</td>\n",
       "      <td>no</td>\n",
       "      <td>no</td>\n",
       "      <td>no</td>\n",
       "      <td>no</td>\n",
       "      <td>0</td>\n",
       "    </tr>\n",
       "    <tr>\n",
       "      <th>4</th>\n",
       "      <td>female</td>\n",
       "      <td>no</td>\n",
       "      <td>44</td>\n",
       "      <td>no</td>\n",
       "      <td>no</td>\n",
       "      <td>no</td>\n",
       "      <td>yes</td>\n",
       "      <td>no</td>\n",
       "      <td>yes</td>\n",
       "      <td>no</td>\n",
       "      <td>0</td>\n",
       "    </tr>\n",
       "  </tbody>\n",
       "</table>\n",
       "</div>"
      ],
      "text/plain": [
       "     sexo neumonia  edad diabetes epoc inmusupr hipertension cardiovascular  \\\n",
       "0  female       no    36      yes   no       no           no             no   \n",
       "1  female       no    63       no   no       no           no            yes   \n",
       "2  female       no    18       no   no       no           no             no   \n",
       "3  female       no    33       no   no       no           no             no   \n",
       "4  female       no    44       no   no       no          yes             no   \n",
       "\n",
       "  obesidad renal_cronica  decease  \n",
       "0       no            no        0  \n",
       "1       no            no        0  \n",
       "2       no            no        0  \n",
       "3       no            no        0  \n",
       "4      yes            no        0  "
      ]
     },
     "execution_count": 4,
     "metadata": {},
     "output_type": "execute_result"
    }
   ],
   "source": [
    "df.head()"
   ]
  },
  {
   "cell_type": "markdown",
   "id": "be0c836d-67a7-4a9f-8035-be1b398549cc",
   "metadata": {},
   "source": [
    "#### Amount of rows and columns"
   ]
  },
  {
   "cell_type": "code",
   "execution_count": 5,
   "id": "81ba2c76-bafe-4542-a92a-2e614df1b88a",
   "metadata": {},
   "outputs": [
    {
     "name": "stdout",
     "output_type": "stream",
     "text": [
      "(2526578, 11)\n",
      "The data set has 2526578 rows and 11 columns\n"
     ]
    }
   ],
   "source": [
    "print(df.shape)\n",
    "print(f'The data set has {df.shape[0]} rows and {df.shape[1]} columns')"
   ]
  },
  {
   "cell_type": "code",
   "execution_count": 12,
   "id": "c89c2511-9946-460f-b805-38923c6771ee",
   "metadata": {},
   "outputs": [
    {
     "name": "stdout",
     "output_type": "stream",
     "text": [
      "<class 'pandas.core.frame.DataFrame'>\n",
      "RangeIndex: 2526578 entries, 0 to 2526577\n",
      "Data columns (total 11 columns):\n",
      " #   Column          Dtype \n",
      "---  ------          ----- \n",
      " 0   sexo            object\n",
      " 1   neumonia        object\n",
      " 2   edad            int64 \n",
      " 3   diabetes        object\n",
      " 4   epoc            object\n",
      " 5   inmusupr        object\n",
      " 6   hipertension    object\n",
      " 7   cardiovascular  object\n",
      " 8   obesidad        object\n",
      " 9   renal_cronica   object\n",
      " 10  decease         int64 \n",
      "dtypes: int64(2), object(9)\n",
      "memory usage: 212.0+ MB\n"
     ]
    }
   ],
   "source": [
    "df.info()"
   ]
  },
  {
   "cell_type": "markdown",
   "id": "030d05cb-537b-4578-9c36-a1e56934aaf4",
   "metadata": {},
   "source": [
    "#### Checking for null values"
   ]
  },
  {
   "cell_type": "code",
   "execution_count": 8,
   "id": "7fb12dcf-8fda-4918-8fbf-08c5b8f3579e",
   "metadata": {},
   "outputs": [
    {
     "data": {
      "text/plain": [
       "sexo              0\n",
       "neumonia          0\n",
       "edad              0\n",
       "diabetes          0\n",
       "epoc              0\n",
       "inmusupr          0\n",
       "hipertension      0\n",
       "cardiovascular    0\n",
       "obesidad          0\n",
       "renal_cronica     0\n",
       "decease           0\n",
       "dtype: int64"
      ]
     },
     "execution_count": 8,
     "metadata": {},
     "output_type": "execute_result"
    }
   ],
   "source": [
    "df.isnull().sum()"
   ]
  },
  {
   "cell_type": "markdown",
   "id": "491fc968-48cf-40fb-aadd-a527f57efc80",
   "metadata": {},
   "source": [
    "> No null values."
   ]
  },
  {
   "cell_type": "markdown",
   "id": "9eb19ffc-6d4d-4935-9ba8-75254eba49c7",
   "metadata": {},
   "source": [
    "#### Basic Stats for data exploration"
   ]
  },
  {
   "cell_type": "code",
   "execution_count": 11,
   "id": "0c42d755-bd6c-4ed0-8022-45bd150836e7",
   "metadata": {},
   "outputs": [
    {
     "data": {
      "text/html": [
       "<div>\n",
       "<style scoped>\n",
       "    .dataframe tbody tr th:only-of-type {\n",
       "        vertical-align: middle;\n",
       "    }\n",
       "\n",
       "    .dataframe tbody tr th {\n",
       "        vertical-align: top;\n",
       "    }\n",
       "\n",
       "    .dataframe thead th {\n",
       "        text-align: right;\n",
       "    }\n",
       "</style>\n",
       "<table border=\"1\" class=\"dataframe\">\n",
       "  <thead>\n",
       "    <tr style=\"text-align: right;\">\n",
       "      <th></th>\n",
       "      <th>count</th>\n",
       "      <th>unique</th>\n",
       "      <th>top</th>\n",
       "      <th>freq</th>\n",
       "      <th>mean</th>\n",
       "      <th>std</th>\n",
       "      <th>min</th>\n",
       "      <th>25%</th>\n",
       "      <th>50%</th>\n",
       "      <th>75%</th>\n",
       "      <th>max</th>\n",
       "    </tr>\n",
       "  </thead>\n",
       "  <tbody>\n",
       "    <tr>\n",
       "      <th>sexo</th>\n",
       "      <td>2526578</td>\n",
       "      <td>2</td>\n",
       "      <td>female</td>\n",
       "      <td>1288828</td>\n",
       "      <td>NaN</td>\n",
       "      <td>NaN</td>\n",
       "      <td>NaN</td>\n",
       "      <td>NaN</td>\n",
       "      <td>NaN</td>\n",
       "      <td>NaN</td>\n",
       "      <td>NaN</td>\n",
       "    </tr>\n",
       "    <tr>\n",
       "      <th>neumonia</th>\n",
       "      <td>2526578</td>\n",
       "      <td>2</td>\n",
       "      <td>no</td>\n",
       "      <td>2311611</td>\n",
       "      <td>NaN</td>\n",
       "      <td>NaN</td>\n",
       "      <td>NaN</td>\n",
       "      <td>NaN</td>\n",
       "      <td>NaN</td>\n",
       "      <td>NaN</td>\n",
       "      <td>NaN</td>\n",
       "    </tr>\n",
       "    <tr>\n",
       "      <th>edad</th>\n",
       "      <td>2526578.0</td>\n",
       "      <td>NaN</td>\n",
       "      <td>NaN</td>\n",
       "      <td>NaN</td>\n",
       "      <td>39.164798</td>\n",
       "      <td>17.272036</td>\n",
       "      <td>0.0</td>\n",
       "      <td>26.0</td>\n",
       "      <td>37.0</td>\n",
       "      <td>50.0</td>\n",
       "      <td>113.0</td>\n",
       "    </tr>\n",
       "    <tr>\n",
       "      <th>diabetes</th>\n",
       "      <td>2526578</td>\n",
       "      <td>2</td>\n",
       "      <td>no</td>\n",
       "      <td>2299534</td>\n",
       "      <td>NaN</td>\n",
       "      <td>NaN</td>\n",
       "      <td>NaN</td>\n",
       "      <td>NaN</td>\n",
       "      <td>NaN</td>\n",
       "      <td>NaN</td>\n",
       "      <td>NaN</td>\n",
       "    </tr>\n",
       "    <tr>\n",
       "      <th>epoc</th>\n",
       "      <td>2526578</td>\n",
       "      <td>2</td>\n",
       "      <td>no</td>\n",
       "      <td>2509758</td>\n",
       "      <td>NaN</td>\n",
       "      <td>NaN</td>\n",
       "      <td>NaN</td>\n",
       "      <td>NaN</td>\n",
       "      <td>NaN</td>\n",
       "      <td>NaN</td>\n",
       "      <td>NaN</td>\n",
       "    </tr>\n",
       "    <tr>\n",
       "      <th>inmusupr</th>\n",
       "      <td>2526578</td>\n",
       "      <td>2</td>\n",
       "      <td>no</td>\n",
       "      <td>2514039</td>\n",
       "      <td>NaN</td>\n",
       "      <td>NaN</td>\n",
       "      <td>NaN</td>\n",
       "      <td>NaN</td>\n",
       "      <td>NaN</td>\n",
       "      <td>NaN</td>\n",
       "      <td>NaN</td>\n",
       "    </tr>\n",
       "    <tr>\n",
       "      <th>hipertension</th>\n",
       "      <td>2526578</td>\n",
       "      <td>2</td>\n",
       "      <td>no</td>\n",
       "      <td>2228048</td>\n",
       "      <td>NaN</td>\n",
       "      <td>NaN</td>\n",
       "      <td>NaN</td>\n",
       "      <td>NaN</td>\n",
       "      <td>NaN</td>\n",
       "      <td>NaN</td>\n",
       "      <td>NaN</td>\n",
       "    </tr>\n",
       "    <tr>\n",
       "      <th>cardiovascular</th>\n",
       "      <td>2526578</td>\n",
       "      <td>2</td>\n",
       "      <td>no</td>\n",
       "      <td>2503557</td>\n",
       "      <td>NaN</td>\n",
       "      <td>NaN</td>\n",
       "      <td>NaN</td>\n",
       "      <td>NaN</td>\n",
       "      <td>NaN</td>\n",
       "      <td>NaN</td>\n",
       "      <td>NaN</td>\n",
       "    </tr>\n",
       "    <tr>\n",
       "      <th>obesidad</th>\n",
       "      <td>2526578</td>\n",
       "      <td>2</td>\n",
       "      <td>no</td>\n",
       "      <td>2281045</td>\n",
       "      <td>NaN</td>\n",
       "      <td>NaN</td>\n",
       "      <td>NaN</td>\n",
       "      <td>NaN</td>\n",
       "      <td>NaN</td>\n",
       "      <td>NaN</td>\n",
       "      <td>NaN</td>\n",
       "    </tr>\n",
       "    <tr>\n",
       "      <th>renal_cronica</th>\n",
       "      <td>2526578</td>\n",
       "      <td>2</td>\n",
       "      <td>no</td>\n",
       "      <td>2503074</td>\n",
       "      <td>NaN</td>\n",
       "      <td>NaN</td>\n",
       "      <td>NaN</td>\n",
       "      <td>NaN</td>\n",
       "      <td>NaN</td>\n",
       "      <td>NaN</td>\n",
       "      <td>NaN</td>\n",
       "    </tr>\n",
       "    <tr>\n",
       "      <th>decease</th>\n",
       "      <td>2526578.0</td>\n",
       "      <td>NaN</td>\n",
       "      <td>NaN</td>\n",
       "      <td>NaN</td>\n",
       "      <td>0.056003</td>\n",
       "      <td>0.229928</td>\n",
       "      <td>0.0</td>\n",
       "      <td>0.0</td>\n",
       "      <td>0.0</td>\n",
       "      <td>0.0</td>\n",
       "      <td>1.0</td>\n",
       "    </tr>\n",
       "  </tbody>\n",
       "</table>\n",
       "</div>"
      ],
      "text/plain": [
       "                    count unique     top     freq       mean        std  min  \\\n",
       "sexo              2526578      2  female  1288828        NaN        NaN  NaN   \n",
       "neumonia          2526578      2      no  2311611        NaN        NaN  NaN   \n",
       "edad            2526578.0    NaN     NaN      NaN  39.164798  17.272036  0.0   \n",
       "diabetes          2526578      2      no  2299534        NaN        NaN  NaN   \n",
       "epoc              2526578      2      no  2509758        NaN        NaN  NaN   \n",
       "inmusupr          2526578      2      no  2514039        NaN        NaN  NaN   \n",
       "hipertension      2526578      2      no  2228048        NaN        NaN  NaN   \n",
       "cardiovascular    2526578      2      no  2503557        NaN        NaN  NaN   \n",
       "obesidad          2526578      2      no  2281045        NaN        NaN  NaN   \n",
       "renal_cronica     2526578      2      no  2503074        NaN        NaN  NaN   \n",
       "decease         2526578.0    NaN     NaN      NaN   0.056003   0.229928  0.0   \n",
       "\n",
       "                 25%   50%   75%    max  \n",
       "sexo             NaN   NaN   NaN    NaN  \n",
       "neumonia         NaN   NaN   NaN    NaN  \n",
       "edad            26.0  37.0  50.0  113.0  \n",
       "diabetes         NaN   NaN   NaN    NaN  \n",
       "epoc             NaN   NaN   NaN    NaN  \n",
       "inmusupr         NaN   NaN   NaN    NaN  \n",
       "hipertension     NaN   NaN   NaN    NaN  \n",
       "cardiovascular   NaN   NaN   NaN    NaN  \n",
       "obesidad         NaN   NaN   NaN    NaN  \n",
       "renal_cronica    NaN   NaN   NaN    NaN  \n",
       "decease          0.0   0.0   0.0    1.0  "
      ]
     },
     "execution_count": 11,
     "metadata": {},
     "output_type": "execute_result"
    }
   ],
   "source": [
    "df.describe(include='all').T"
   ]
  },
  {
   "cell_type": "markdown",
   "id": "3a20348b-f3e7-44d6-a3d3-077e0033df4d",
   "metadata": {},
   "source": [
    "### Cheking for the count of unique values for every column"
   ]
  },
  {
   "cell_type": "code",
   "execution_count": 14,
   "id": "742f7de1-e5a5-41ca-8f78-942c2bc2fe01",
   "metadata": {},
   "outputs": [
    {
     "name": "stdout",
     "output_type": "stream",
     "text": [
      "sexo\n",
      "female    1288828\n",
      "male      1237750\n",
      "Name: count, dtype: int64\n",
      "\n",
      "neumonia\n",
      "no     2311611\n",
      "yes     214967\n",
      "Name: count, dtype: int64\n",
      "\n",
      "edad\n",
      "28     66839\n",
      "27     66697\n",
      "29     65989\n",
      "26     64970\n",
      "30     61901\n",
      "       ...  \n",
      "110       13\n",
      "108       11\n",
      "111       10\n",
      "112        6\n",
      "113        4\n",
      "Name: count, Length: 114, dtype: int64\n",
      "\n",
      "diabetes\n",
      "no     2299534\n",
      "yes     227044\n",
      "Name: count, dtype: int64\n",
      "\n",
      "epoc\n",
      "no     2509758\n",
      "yes      16820\n",
      "Name: count, dtype: int64\n",
      "\n",
      "inmusupr\n",
      "no     2514039\n",
      "yes      12539\n",
      "Name: count, dtype: int64\n",
      "\n",
      "hipertension\n",
      "no     2228048\n",
      "yes     298530\n",
      "Name: count, dtype: int64\n",
      "\n",
      "cardiovascular\n",
      "no     2503557\n",
      "yes      23021\n",
      "Name: count, dtype: int64\n",
      "\n",
      "obesidad\n",
      "no     2281045\n",
      "yes     245533\n",
      "Name: count, dtype: int64\n",
      "\n",
      "renal_cronica\n",
      "no     2503074\n",
      "yes      23504\n",
      "Name: count, dtype: int64\n",
      "\n",
      "decease\n",
      "0    2385081\n",
      "1     141497\n",
      "Name: count, dtype: int64\n",
      "\n"
     ]
    }
   ],
   "source": [
    "for col in df.describe(include='all').columns:\n",
    "    print(df[col].value_counts())\n",
    "    print()"
   ]
  },
  {
   "cell_type": "markdown",
   "id": "eb264cd7-68e1-4279-b699-6189eb609e06",
   "metadata": {},
   "source": [
    "## EDA"
   ]
  },
  {
   "cell_type": "markdown",
   "id": "1c0524dc-0a12-4c66-abdd-392f35d3a9b6",
   "metadata": {},
   "source": [
    "### Univariate stats"
   ]
  },
  {
   "cell_type": "markdown",
   "id": "3c48f21a-cd25-458a-960c-f018788b3b86",
   "metadata": {},
   "source": [
    "#### Numerical variables"
   ]
  },
  {
   "cell_type": "code",
   "execution_count": 19,
   "id": "7bb4fb45-a419-4adb-af00-582db0dc9613",
   "metadata": {},
   "outputs": [],
   "source": [
    "# Set numerical variables to a format to only 6 values after the decimal point\n",
    "pd.set_option('display.float_format', '{:.5f}'.format)"
   ]
  },
  {
   "cell_type": "code",
   "execution_count": 20,
   "id": "08b3fd24-1029-4828-965a-11dc896c2507",
   "metadata": {},
   "outputs": [
    {
     "data": {
      "text/plain": [
       "count   2526578.00000\n",
       "mean         39.16480\n",
       "std          17.27204\n",
       "min           0.00000\n",
       "25%          26.00000\n",
       "50%          37.00000\n",
       "75%          50.00000\n",
       "max         113.00000\n",
       "Name: edad, dtype: float64"
      ]
     },
     "execution_count": 20,
     "metadata": {},
     "output_type": "execute_result"
    }
   ],
   "source": [
    "df.edad.describe()"
   ]
  },
  {
   "cell_type": "code",
   "execution_count": 21,
   "id": "80eb5e34-2741-4778-8270-ea4accfb791b",
   "metadata": {},
   "outputs": [
    {
     "data": {
      "image/png": "[encoded data removed]",
      "text/plain": [
       "<Figure size 640x480 with 1 Axes>"
      ]
     },
     "metadata": {},
     "output_type": "display_data"
    }
   ],
   "source": [
    "df.edad.hist();"
   ]
  },
  {
   "cell_type": "markdown",
   "id": "dc4e916c-cd6a-40e9-a9df-47954a434f41",
   "metadata": {},
   "source": [
    "### Categorical variables"
   ]
  },
  {
   "cell_type": "code",
   "execution_count": 22,
   "id": "0a7a4f3d-94c1-4641-b045-b62386e729d2",
   "metadata": {},
   "outputs": [
    {
     "data": {
      "text/html": [
       "<div>\n",
       "<style scoped>\n",
       "    .dataframe tbody tr th:only-of-type {\n",
       "        vertical-align: middle;\n",
       "    }\n",
       "\n",
       "    .dataframe tbody tr th {\n",
       "        vertical-align: top;\n",
       "    }\n",
       "\n",
       "    .dataframe thead th {\n",
       "        text-align: right;\n",
       "    }\n",
       "</style>\n",
       "<table border=\"1\" class=\"dataframe\">\n",
       "  <thead>\n",
       "    <tr style=\"text-align: right;\">\n",
       "      <th></th>\n",
       "      <th>sexo</th>\n",
       "      <th>neumonia</th>\n",
       "      <th>diabetes</th>\n",
       "      <th>epoc</th>\n",
       "      <th>inmusupr</th>\n",
       "      <th>hipertension</th>\n",
       "      <th>cardiovascular</th>\n",
       "      <th>obesidad</th>\n",
       "      <th>renal_cronica</th>\n",
       "    </tr>\n",
       "  </thead>\n",
       "  <tbody>\n",
       "    <tr>\n",
       "      <th>count</th>\n",
       "      <td>2526578</td>\n",
       "      <td>2526578</td>\n",
       "      <td>2526578</td>\n",
       "      <td>2526578</td>\n",
       "      <td>2526578</td>\n",
       "      <td>2526578</td>\n",
       "      <td>2526578</td>\n",
       "      <td>2526578</td>\n",
       "      <td>2526578</td>\n",
       "    </tr>\n",
       "    <tr>\n",
       "      <th>unique</th>\n",
       "      <td>2</td>\n",
       "      <td>2</td>\n",
       "      <td>2</td>\n",
       "      <td>2</td>\n",
       "      <td>2</td>\n",
       "      <td>2</td>\n",
       "      <td>2</td>\n",
       "      <td>2</td>\n",
       "      <td>2</td>\n",
       "    </tr>\n",
       "    <tr>\n",
       "      <th>top</th>\n",
       "      <td>female</td>\n",
       "      <td>no</td>\n",
       "      <td>no</td>\n",
       "      <td>no</td>\n",
       "      <td>no</td>\n",
       "      <td>no</td>\n",
       "      <td>no</td>\n",
       "      <td>no</td>\n",
       "      <td>no</td>\n",
       "    </tr>\n",
       "    <tr>\n",
       "      <th>freq</th>\n",
       "      <td>1288828</td>\n",
       "      <td>2311611</td>\n",
       "      <td>2299534</td>\n",
       "      <td>2509758</td>\n",
       "      <td>2514039</td>\n",
       "      <td>2228048</td>\n",
       "      <td>2503557</td>\n",
       "      <td>2281045</td>\n",
       "      <td>2503074</td>\n",
       "    </tr>\n",
       "  </tbody>\n",
       "</table>\n",
       "</div>"
      ],
      "text/plain": [
       "           sexo neumonia diabetes     epoc inmusupr hipertension  \\\n",
       "count   2526578  2526578  2526578  2526578  2526578      2526578   \n",
       "unique        2        2        2        2        2            2   \n",
       "top      female       no       no       no       no           no   \n",
       "freq    1288828  2311611  2299534  2509758  2514039      2228048   \n",
       "\n",
       "       cardiovascular obesidad renal_cronica  \n",
       "count         2526578  2526578       2526578  \n",
       "unique              2        2             2  \n",
       "top                no       no            no  \n",
       "freq          2503557  2281045       2503074  "
      ]
     },
     "execution_count": 22,
     "metadata": {},
     "output_type": "execute_result"
    }
   ],
   "source": [
    "df.describe(exclude='number')"
   ]
  },
  {
   "cell_type": "code",
   "execution_count": 23,
   "id": "a35f51e5-536c-41d5-9487-36f99c47dd41",
   "metadata": {},
   "outputs": [],
   "source": [
    "cat_cols = df.describe(exclude='number').columns"
   ]
  },
  {
   "cell_type": "code",
   "execution_count": 25,
   "id": "75f279b2-b50b-4a87-8e02-77ecee02d28c",
   "metadata": {},
   "outputs": [
    {
     "data": {
      "image/png": "[encoded data removed]",
      "text/plain": [
       "<Figure size 800x1000 with 9 Axes>"
      ]
     },
     "metadata": {},
     "output_type": "display_data"
    }
   ],
   "source": [
    "fig, ax = plt.subplots(nrows = 3, ncols = 3, figsize =(8,10))\n",
    "fig.tight_layout(pad=2.0)\n",
    "i = 0\n",
    "for row in range(3):\n",
    "    for col in range(3):\n",
    "        g = sns.countplot(x=cat_cols[i], data=df, ax = ax[row,col], palette=\"tab10\");\n",
    "        g.set_xticklabels(g.get_xticklabels(), rotation=30)\n",
    "        i += 1\n",
    "plt.show()"
   ]
  },
  {
   "cell_type": "markdown",
   "id": "6eca6e68-6557-42ca-9093-acabcccdbcbb",
   "metadata": {},
   "source": [
    "### Bivariate Charts"
   ]
  },
  {
   "cell_type": "code",
   "execution_count": 26,
   "id": "58aa03f3-b054-4e45-8adc-d38597bafd19",
   "metadata": {},
   "outputs": [
    {
     "data": {
      "image/png": "[encoded data removed]",
      "text/plain": [
       "<Figure size 640x480 with 1 Axes>"
      ]
     },
     "metadata": {},
     "output_type": "display_data"
    }
   ],
   "source": [
    "sns.boxenplot(data=df, x='decease', y='edad', hue='sexo');\n",
    "plt.legend(bbox_to_anchor=(1.02, 1), loc='upper left', borderaxespad=0);"
   ]
  },
  {
   "cell_type": "markdown",
   "id": "02ec2e98-5749-40e1-a584-4ebd4698057a",
   "metadata": {},
   "source": [
    "### Categorical variables vs decease"
   ]
  },
  {
   "cell_type": "code",
   "execution_count": 28,
   "id": "148296be-afe3-44ad-bb82-8c09167a6152",
   "metadata": {},
   "outputs": [
    {
     "data": {
      "image/png": "[encoded data removed]",
      "text/plain": [
       "<Figure size 800x1000 with 9 Axes>"
      ]
     },
     "metadata": {},
     "output_type": "display_data"
    }
   ],
   "source": [
    "fig, ax = plt.subplots(nrows = 3, ncols = 3, figsize =(8,10))\n",
    "fig.tight_layout(pad=2.0)\n",
    "i = 0\n",
    "for row in range(3):\n",
    "    for col in range(3):\n",
    "        g = sns.countplot(x=cat_cols[i], data=df, ax = ax[row,col], palette=\"tab10\", hue='decease');\n",
    "        g.set_xticklabels(g.get_xticklabels(), rotation=30)\n",
    "        i += 1\n",
    "plt.show()"
   ]
  },
  {
   "cell_type": "markdown",
   "id": "6371b866-16fb-4c79-8e2d-8076de3717d1",
   "metadata": {},
   "source": [
    "### Decease risk ratio by group"
   ]
  },
  {
   "cell_type": "code",
   "execution_count": 30,
   "id": "66720fed-7cbb-47b8-b2f4-75cfd000ffee",
   "metadata": {},
   "outputs": [
    {
     "data": {
      "text/plain": [
       "0.05600341647873131"
      ]
     },
     "execution_count": 30,
     "metadata": {},
     "output_type": "execute_result"
    }
   ],
   "source": [
    "global_decease = df.decease.mean()\n",
    "global_decease"
   ]
  },
  {
   "cell_type": "code",
   "execution_count": 31,
   "id": "fc4be382-1632-4e73-939b-9873db68dc53",
   "metadata": {},
   "outputs": [],
   "source": [
    "from IPython.display import display"
   ]
  },
  {
   "cell_type": "code",
   "execution_count": 32,
   "id": "9a90a21e-0d97-42ff-a341-804616f9b365",
   "metadata": {},
   "outputs": [
    {
     "name": "stdout",
     "output_type": "stream",
     "text": [
      "sexo\n"
     ]
    },
    {
     "data": {
      "text/html": [
       "<div>\n",
       "<style scoped>\n",
       "    .dataframe tbody tr th:only-of-type {\n",
       "        vertical-align: middle;\n",
       "    }\n",
       "\n",
       "    .dataframe tbody tr th {\n",
       "        vertical-align: top;\n",
       "    }\n",
       "\n",
       "    .dataframe thead th {\n",
       "        text-align: right;\n",
       "    }\n",
       "</style>\n",
       "<table border=\"1\" class=\"dataframe\">\n",
       "  <thead>\n",
       "    <tr style=\"text-align: right;\">\n",
       "      <th></th>\n",
       "      <th>mean</th>\n",
       "      <th>count</th>\n",
       "      <th>diff</th>\n",
       "      <th>risk</th>\n",
       "    </tr>\n",
       "    <tr>\n",
       "      <th>sexo</th>\n",
       "      <th></th>\n",
       "      <th></th>\n",
       "      <th></th>\n",
       "      <th></th>\n",
       "    </tr>\n",
       "  </thead>\n",
       "  <tbody>\n",
       "    <tr>\n",
       "      <th>female</th>\n",
       "      <td>0.04431</td>\n",
       "      <td>1288828</td>\n",
       "      <td>-0.01170</td>\n",
       "      <td>0.79113</td>\n",
       "    </tr>\n",
       "    <tr>\n",
       "      <th>male</th>\n",
       "      <td>0.06818</td>\n",
       "      <td>1237750</td>\n",
       "      <td>0.01218</td>\n",
       "      <td>1.21749</td>\n",
       "    </tr>\n",
       "  </tbody>\n",
       "</table>\n",
       "</div>"
      ],
      "text/plain": [
       "          mean    count     diff    risk\n",
       "sexo                                    \n",
       "female 0.04431  1288828 -0.01170 0.79113\n",
       "male   0.06818  1237750  0.01218 1.21749"
      ]
     },
     "metadata": {},
     "output_type": "display_data"
    },
    {
     "name": "stdout",
     "output_type": "stream",
     "text": [
      "\n",
      "\n",
      "neumonia\n"
     ]
    },
    {
     "data": {
      "text/html": [
       "<div>\n",
       "<style scoped>\n",
       "    .dataframe tbody tr th:only-of-type {\n",
       "        vertical-align: middle;\n",
       "    }\n",
       "\n",
       "    .dataframe tbody tr th {\n",
       "        vertical-align: top;\n",
       "    }\n",
       "\n",
       "    .dataframe thead th {\n",
       "        text-align: right;\n",
       "    }\n",
       "</style>\n",
       "<table border=\"1\" class=\"dataframe\">\n",
       "  <thead>\n",
       "    <tr style=\"text-align: right;\">\n",
       "      <th></th>\n",
       "      <th>mean</th>\n",
       "      <th>count</th>\n",
       "      <th>diff</th>\n",
       "      <th>risk</th>\n",
       "    </tr>\n",
       "    <tr>\n",
       "      <th>neumonia</th>\n",
       "      <th></th>\n",
       "      <th></th>\n",
       "      <th></th>\n",
       "      <th></th>\n",
       "    </tr>\n",
       "  </thead>\n",
       "  <tbody>\n",
       "    <tr>\n",
       "      <th>no</th>\n",
       "      <td>0.01738</td>\n",
       "      <td>2311611</td>\n",
       "      <td>-0.03862</td>\n",
       "      <td>0.31041</td>\n",
       "    </tr>\n",
       "    <tr>\n",
       "      <th>yes</th>\n",
       "      <td>0.47129</td>\n",
       "      <td>214967</td>\n",
       "      <td>0.41529</td>\n",
       "      <td>8.41540</td>\n",
       "    </tr>\n",
       "  </tbody>\n",
       "</table>\n",
       "</div>"
      ],
      "text/plain": [
       "            mean    count     diff    risk\n",
       "neumonia                                  \n",
       "no       0.01738  2311611 -0.03862 0.31041\n",
       "yes      0.47129   214967  0.41529 8.41540"
      ]
     },
     "metadata": {},
     "output_type": "display_data"
    },
    {
     "name": "stdout",
     "output_type": "stream",
     "text": [
      "\n",
      "\n",
      "diabetes\n"
     ]
    },
    {
     "data": {
      "text/html": [
       "<div>\n",
       "<style scoped>\n",
       "    .dataframe tbody tr th:only-of-type {\n",
       "        vertical-align: middle;\n",
       "    }\n",
       "\n",
       "    .dataframe tbody tr th {\n",
       "        vertical-align: top;\n",
       "    }\n",
       "\n",
       "    .dataframe thead th {\n",
       "        text-align: right;\n",
       "    }\n",
       "</style>\n",
       "<table border=\"1\" class=\"dataframe\">\n",
       "  <thead>\n",
       "    <tr style=\"text-align: right;\">\n",
       "      <th></th>\n",
       "      <th>mean</th>\n",
       "      <th>count</th>\n",
       "      <th>diff</th>\n",
       "      <th>risk</th>\n",
       "    </tr>\n",
       "    <tr>\n",
       "      <th>diabetes</th>\n",
       "      <th></th>\n",
       "      <th></th>\n",
       "      <th></th>\n",
       "      <th></th>\n",
       "    </tr>\n",
       "  </thead>\n",
       "  <tbody>\n",
       "    <tr>\n",
       "      <th>no</th>\n",
       "      <td>0.03986</td>\n",
       "      <td>2299534</td>\n",
       "      <td>-0.01614</td>\n",
       "      <td>0.71173</td>\n",
       "    </tr>\n",
       "    <tr>\n",
       "      <th>yes</th>\n",
       "      <td>0.21951</td>\n",
       "      <td>227044</td>\n",
       "      <td>0.16351</td>\n",
       "      <td>3.91963</td>\n",
       "    </tr>\n",
       "  </tbody>\n",
       "</table>\n",
       "</div>"
      ],
      "text/plain": [
       "            mean    count     diff    risk\n",
       "diabetes                                  \n",
       "no       0.03986  2299534 -0.01614 0.71173\n",
       "yes      0.21951   227044  0.16351 3.91963"
      ]
     },
     "metadata": {},
     "output_type": "display_data"
    },
    {
     "name": "stdout",
     "output_type": "stream",
     "text": [
      "\n",
      "\n",
      "epoc\n"
     ]
    },
    {
     "data": {
      "text/html": [
       "<div>\n",
       "<style scoped>\n",
       "    .dataframe tbody tr th:only-of-type {\n",
       "        vertical-align: middle;\n",
       "    }\n",
       "\n",
       "    .dataframe tbody tr th {\n",
       "        vertical-align: top;\n",
       "    }\n",
       "\n",
       "    .dataframe thead th {\n",
       "        text-align: right;\n",
       "    }\n",
       "</style>\n",
       "<table border=\"1\" class=\"dataframe\">\n",
       "  <thead>\n",
       "    <tr style=\"text-align: right;\">\n",
       "      <th></th>\n",
       "      <th>mean</th>\n",
       "      <th>count</th>\n",
       "      <th>diff</th>\n",
       "      <th>risk</th>\n",
       "    </tr>\n",
       "    <tr>\n",
       "      <th>epoc</th>\n",
       "      <th></th>\n",
       "      <th></th>\n",
       "      <th></th>\n",
       "      <th></th>\n",
       "    </tr>\n",
       "  </thead>\n",
       "  <tbody>\n",
       "    <tr>\n",
       "      <th>no</th>\n",
       "      <td>0.05421</td>\n",
       "      <td>2509758</td>\n",
       "      <td>-0.00180</td>\n",
       "      <td>0.96795</td>\n",
       "    </tr>\n",
       "    <tr>\n",
       "      <th>yes</th>\n",
       "      <td>0.32384</td>\n",
       "      <td>16820</td>\n",
       "      <td>0.26784</td>\n",
       "      <td>5.78252</td>\n",
       "    </tr>\n",
       "  </tbody>\n",
       "</table>\n",
       "</div>"
      ],
      "text/plain": [
       "        mean    count     diff    risk\n",
       "epoc                                  \n",
       "no   0.05421  2509758 -0.00180 0.96795\n",
       "yes  0.32384    16820  0.26784 5.78252"
      ]
     },
     "metadata": {},
     "output_type": "display_data"
    },
    {
     "name": "stdout",
     "output_type": "stream",
     "text": [
      "\n",
      "\n",
      "inmusupr\n"
     ]
    },
    {
     "data": {
      "text/html": [
       "<div>\n",
       "<style scoped>\n",
       "    .dataframe tbody tr th:only-of-type {\n",
       "        vertical-align: middle;\n",
       "    }\n",
       "\n",
       "    .dataframe tbody tr th {\n",
       "        vertical-align: top;\n",
       "    }\n",
       "\n",
       "    .dataframe thead th {\n",
       "        text-align: right;\n",
       "    }\n",
       "</style>\n",
       "<table border=\"1\" class=\"dataframe\">\n",
       "  <thead>\n",
       "    <tr style=\"text-align: right;\">\n",
       "      <th></th>\n",
       "      <th>mean</th>\n",
       "      <th>count</th>\n",
       "      <th>diff</th>\n",
       "      <th>risk</th>\n",
       "    </tr>\n",
       "    <tr>\n",
       "      <th>inmusupr</th>\n",
       "      <th></th>\n",
       "      <th></th>\n",
       "      <th></th>\n",
       "      <th></th>\n",
       "    </tr>\n",
       "  </thead>\n",
       "  <tbody>\n",
       "    <tr>\n",
       "      <th>no</th>\n",
       "      <td>0.05514</td>\n",
       "      <td>2514039</td>\n",
       "      <td>-0.00087</td>\n",
       "      <td>0.98453</td>\n",
       "    </tr>\n",
       "    <tr>\n",
       "      <th>yes</th>\n",
       "      <td>0.22968</td>\n",
       "      <td>12539</td>\n",
       "      <td>0.17368</td>\n",
       "      <td>4.10124</td>\n",
       "    </tr>\n",
       "  </tbody>\n",
       "</table>\n",
       "</div>"
      ],
      "text/plain": [
       "            mean    count     diff    risk\n",
       "inmusupr                                  \n",
       "no       0.05514  2514039 -0.00087 0.98453\n",
       "yes      0.22968    12539  0.17368 4.10124"
      ]
     },
     "metadata": {},
     "output_type": "display_data"
    },
    {
     "name": "stdout",
     "output_type": "stream",
     "text": [
      "\n",
      "\n",
      "hipertension\n"
     ]
    },
    {
     "data": {
      "text/html": [
       "<div>\n",
       "<style scoped>\n",
       "    .dataframe tbody tr th:only-of-type {\n",
       "        vertical-align: middle;\n",
       "    }\n",
       "\n",
       "    .dataframe tbody tr th {\n",
       "        vertical-align: top;\n",
       "    }\n",
       "\n",
       "    .dataframe thead th {\n",
       "        text-align: right;\n",
       "    }\n",
       "</style>\n",
       "<table border=\"1\" class=\"dataframe\">\n",
       "  <thead>\n",
       "    <tr style=\"text-align: right;\">\n",
       "      <th></th>\n",
       "      <th>mean</th>\n",
       "      <th>count</th>\n",
       "      <th>diff</th>\n",
       "      <th>risk</th>\n",
       "    </tr>\n",
       "    <tr>\n",
       "      <th>hipertension</th>\n",
       "      <th></th>\n",
       "      <th></th>\n",
       "      <th></th>\n",
       "      <th></th>\n",
       "    </tr>\n",
       "  </thead>\n",
       "  <tbody>\n",
       "    <tr>\n",
       "      <th>no</th>\n",
       "      <td>0.03638</td>\n",
       "      <td>2228048</td>\n",
       "      <td>-0.01963</td>\n",
       "      <td>0.64952</td>\n",
       "    </tr>\n",
       "    <tr>\n",
       "      <th>yes</th>\n",
       "      <td>0.20250</td>\n",
       "      <td>298530</td>\n",
       "      <td>0.14649</td>\n",
       "      <td>3.61577</td>\n",
       "    </tr>\n",
       "  </tbody>\n",
       "</table>\n",
       "</div>"
      ],
      "text/plain": [
       "                mean    count     diff    risk\n",
       "hipertension                                  \n",
       "no           0.03638  2228048 -0.01963 0.64952\n",
       "yes          0.20250   298530  0.14649 3.61577"
      ]
     },
     "metadata": {},
     "output_type": "display_data"
    },
    {
     "name": "stdout",
     "output_type": "stream",
     "text": [
      "\n",
      "\n",
      "cardiovascular\n"
     ]
    },
    {
     "data": {
      "text/html": [
       "<div>\n",
       "<style scoped>\n",
       "    .dataframe tbody tr th:only-of-type {\n",
       "        vertical-align: middle;\n",
       "    }\n",
       "\n",
       "    .dataframe tbody tr th {\n",
       "        vertical-align: top;\n",
       "    }\n",
       "\n",
       "    .dataframe thead th {\n",
       "        text-align: right;\n",
       "    }\n",
       "</style>\n",
       "<table border=\"1\" class=\"dataframe\">\n",
       "  <thead>\n",
       "    <tr style=\"text-align: right;\">\n",
       "      <th></th>\n",
       "      <th>mean</th>\n",
       "      <th>count</th>\n",
       "      <th>diff</th>\n",
       "      <th>risk</th>\n",
       "    </tr>\n",
       "    <tr>\n",
       "      <th>cardiovascular</th>\n",
       "      <th></th>\n",
       "      <th></th>\n",
       "      <th></th>\n",
       "      <th></th>\n",
       "    </tr>\n",
       "  </thead>\n",
       "  <tbody>\n",
       "    <tr>\n",
       "      <th>no</th>\n",
       "      <td>0.05400</td>\n",
       "      <td>2503557</td>\n",
       "      <td>-0.00201</td>\n",
       "      <td>0.96420</td>\n",
       "    </tr>\n",
       "    <tr>\n",
       "      <th>yes</th>\n",
       "      <td>0.27405</td>\n",
       "      <td>23021</td>\n",
       "      <td>0.21805</td>\n",
       "      <td>4.89353</td>\n",
       "    </tr>\n",
       "  </tbody>\n",
       "</table>\n",
       "</div>"
      ],
      "text/plain": [
       "                  mean    count     diff    risk\n",
       "cardiovascular                                  \n",
       "no             0.05400  2503557 -0.00201 0.96420\n",
       "yes            0.27405    23021  0.21805 4.89353"
      ]
     },
     "metadata": {},
     "output_type": "display_data"
    },
    {
     "name": "stdout",
     "output_type": "stream",
     "text": [
      "\n",
      "\n",
      "obesidad\n"
     ]
    },
    {
     "data": {
      "text/html": [
       "<div>\n",
       "<style scoped>\n",
       "    .dataframe tbody tr th:only-of-type {\n",
       "        vertical-align: middle;\n",
       "    }\n",
       "\n",
       "    .dataframe tbody tr th {\n",
       "        vertical-align: top;\n",
       "    }\n",
       "\n",
       "    .dataframe thead th {\n",
       "        text-align: right;\n",
       "    }\n",
       "</style>\n",
       "<table border=\"1\" class=\"dataframe\">\n",
       "  <thead>\n",
       "    <tr style=\"text-align: right;\">\n",
       "      <th></th>\n",
       "      <th>mean</th>\n",
       "      <th>count</th>\n",
       "      <th>diff</th>\n",
       "      <th>risk</th>\n",
       "    </tr>\n",
       "    <tr>\n",
       "      <th>obesidad</th>\n",
       "      <th></th>\n",
       "      <th></th>\n",
       "      <th></th>\n",
       "      <th></th>\n",
       "    </tr>\n",
       "  </thead>\n",
       "  <tbody>\n",
       "    <tr>\n",
       "      <th>no</th>\n",
       "      <td>0.04971</td>\n",
       "      <td>2281045</td>\n",
       "      <td>-0.00629</td>\n",
       "      <td>0.88767</td>\n",
       "    </tr>\n",
       "    <tr>\n",
       "      <th>yes</th>\n",
       "      <td>0.11444</td>\n",
       "      <td>245533</td>\n",
       "      <td>0.05844</td>\n",
       "      <td>2.04353</td>\n",
       "    </tr>\n",
       "  </tbody>\n",
       "</table>\n",
       "</div>"
      ],
      "text/plain": [
       "            mean    count     diff    risk\n",
       "obesidad                                  \n",
       "no       0.04971  2281045 -0.00629 0.88767\n",
       "yes      0.11444   245533  0.05844 2.04353"
      ]
     },
     "metadata": {},
     "output_type": "display_data"
    },
    {
     "name": "stdout",
     "output_type": "stream",
     "text": [
      "\n",
      "\n",
      "renal_cronica\n"
     ]
    },
    {
     "data": {
      "text/html": [
       "<div>\n",
       "<style scoped>\n",
       "    .dataframe tbody tr th:only-of-type {\n",
       "        vertical-align: middle;\n",
       "    }\n",
       "\n",
       "    .dataframe tbody tr th {\n",
       "        vertical-align: top;\n",
       "    }\n",
       "\n",
       "    .dataframe thead th {\n",
       "        text-align: right;\n",
       "    }\n",
       "</style>\n",
       "<table border=\"1\" class=\"dataframe\">\n",
       "  <thead>\n",
       "    <tr style=\"text-align: right;\">\n",
       "      <th></th>\n",
       "      <th>mean</th>\n",
       "      <th>count</th>\n",
       "      <th>diff</th>\n",
       "      <th>risk</th>\n",
       "    </tr>\n",
       "    <tr>\n",
       "      <th>renal_cronica</th>\n",
       "      <th></th>\n",
       "      <th></th>\n",
       "      <th></th>\n",
       "      <th></th>\n",
       "    </tr>\n",
       "  </thead>\n",
       "  <tbody>\n",
       "    <tr>\n",
       "      <th>no</th>\n",
       "      <td>0.05285</td>\n",
       "      <td>2503074</td>\n",
       "      <td>-0.00316</td>\n",
       "      <td>0.94364</td>\n",
       "    </tr>\n",
       "    <tr>\n",
       "      <th>yes</th>\n",
       "      <td>0.39215</td>\n",
       "      <td>23504</td>\n",
       "      <td>0.33614</td>\n",
       "      <td>7.00218</td>\n",
       "    </tr>\n",
       "  </tbody>\n",
       "</table>\n",
       "</div>"
      ],
      "text/plain": [
       "                 mean    count     diff    risk\n",
       "renal_cronica                                  \n",
       "no            0.05285  2503074 -0.00316 0.94364\n",
       "yes           0.39215    23504  0.33614 7.00218"
      ]
     },
     "metadata": {},
     "output_type": "display_data"
    },
    {
     "name": "stdout",
     "output_type": "stream",
     "text": [
      "\n",
      "\n"
     ]
    }
   ],
   "source": [
    "for c in cat_cols:\n",
    "    print(c)\n",
    "    df_group = df.groupby(c).decease.agg(['mean', 'count'])\n",
    "    df_group['diff'] = df_group['mean'] - global_decease\n",
    "    df_group['risk'] = df_group['mean'] / global_decease\n",
    "    display(df_group)\n",
    "    print()\n",
    "    print()"
   ]
  },
  {
   "cell_type": "markdown",
   "id": "49f7cf45-426b-44ef-ab1b-b60890c8fdc0",
   "metadata": {},
   "source": [
    "### Feature importance: Mutual information"
   ]
  },
  {
   "cell_type": "code",
   "execution_count": 33,
   "id": "025299cf-269f-4159-ad19-c9e75902c9b2",
   "metadata": {},
   "outputs": [],
   "source": [
    "from sklearn.metrics import mutual_info_score"
   ]
  },
  {
   "cell_type": "code",
   "execution_count": 38,
   "id": "0fe60ac2-f7a4-4bfa-875e-b31adb5671c3",
   "metadata": {},
   "outputs": [],
   "source": [
    "# Function to get mutal information for all columns\n",
    "def mutual_info_churn_score(series):\n",
    "    return mutual_info_score(series, df.decease)"
   ]
  },
  {
   "cell_type": "code",
   "execution_count": 39,
   "id": "c9629b09-0aa7-4c4d-a044-545c729779f7",
   "metadata": {},
   "outputs": [
    {
     "data": {
      "text/plain": [
       "neumonia         0.07678\n",
       "hipertension     0.01851\n",
       "diabetes         0.01609\n",
       "renal_cronica    0.00471\n",
       "obesidad         0.00280\n",
       "epoc             0.00231\n",
       "cardiovascular   0.00227\n",
       "sexo             0.00135\n",
       "inmusupr         0.00084\n",
       "dtype: float64"
      ]
     },
     "execution_count": 39,
     "metadata": {},
     "output_type": "execute_result"
    }
   ],
   "source": [
    "mi = df[cat_cols].apply(mutual_info_churn_score)\n",
    "mi.sort_values(ascending=False)"
   ]
  },
  {
   "cell_type": "markdown",
   "id": "2e1ad323-7566-47c0-aa83-3fbd3834f845",
   "metadata": {},
   "source": [
    "### Hypothesis tesiting for categorical variables, Chi square"
   ]
  },
  {
   "cell_type": "code",
   "execution_count": 42,
   "id": "5d27df36-9397-4476-8a47-693441100fde",
   "metadata": {},
   "outputs": [],
   "source": [
    "from scipy.stats import chi2_contingency"
   ]
  },
  {
   "cell_type": "code",
   "execution_count": 40,
   "id": "39d47a6c-6797-425a-9dfa-e6ee87657d2e",
   "metadata": {},
   "outputs": [],
   "source": [
    "# Function to run the test in all categorical variables\n",
    "def chi2_analisys(df, dep_var, columns):\n",
    "    \"\"\"\n",
    "    Arguments are a dataframe and the name of the Dependent variable as a string\n",
    "    :param dataframe:\n",
    "    :param dep_var:\n",
    "    :return:\n",
    "    \"\"\"\n",
    "    data_to_add = []\n",
    "    for col in columns:\n",
    "        temp_crosstab = pd.crosstab(df[dep_var], df[col])\n",
    "        temp_result = chi2_contingency(temp_crosstab)\n",
    "        if col != dep_var:\n",
    "            if temp_result[1] < 0.05:\n",
    "                # print(f'Dependent Var: {dep_var} ---- Independent Var: {col} ----- p-value={round(temp_result[1], 10)} -> We will reject the NULL hypothesis.')\n",
    "                data_to_add.append([dep_var, col, round(temp_result[1], 10), 'Reject'])\n",
    "            else:\n",
    "                # print(f'Dependent Var: {dep_var} ---- Independent Var: {col} ----- p-value={round(temp_result[1], 10)} -> We will not reject the NULL hypothesis.')\n",
    "                data_to_add.append([dep_var, col, round(temp_result[1], 10), 'Accept'])\n",
    "    new_df = pd.DataFrame(data_to_add, columns=['Dependent', 'Independent', 'p-value', 'NULL Hypothesis'])\n",
    "    return new_df.sort_values(by='NULL Hypothesis').reset_index(drop=True)"
   ]
  },
  {
   "cell_type": "code",
   "execution_count": 43,
   "id": "ef9c4441-d5dd-4553-9f86-23c3d6675736",
   "metadata": {},
   "outputs": [
    {
     "data": {
      "text/html": [
       "<div>\n",
       "<style scoped>\n",
       "    .dataframe tbody tr th:only-of-type {\n",
       "        vertical-align: middle;\n",
       "    }\n",
       "\n",
       "    .dataframe tbody tr th {\n",
       "        vertical-align: top;\n",
       "    }\n",
       "\n",
       "    .dataframe thead th {\n",
       "        text-align: right;\n",
       "    }\n",
       "</style>\n",
       "<table border=\"1\" class=\"dataframe\">\n",
       "  <thead>\n",
       "    <tr style=\"text-align: right;\">\n",
       "      <th></th>\n",
       "      <th>Dependent</th>\n",
       "      <th>Independent</th>\n",
       "      <th>p-value</th>\n",
       "      <th>NULL Hypothesis</th>\n",
       "    </tr>\n",
       "  </thead>\n",
       "  <tbody>\n",
       "    <tr>\n",
       "      <th>0</th>\n",
       "      <td>decease</td>\n",
       "      <td>sexo</td>\n",
       "      <td>0.00000</td>\n",
       "      <td>Reject</td>\n",
       "    </tr>\n",
       "    <tr>\n",
       "      <th>1</th>\n",
       "      <td>decease</td>\n",
       "      <td>neumonia</td>\n",
       "      <td>0.00000</td>\n",
       "      <td>Reject</td>\n",
       "    </tr>\n",
       "    <tr>\n",
       "      <th>2</th>\n",
       "      <td>decease</td>\n",
       "      <td>diabetes</td>\n",
       "      <td>0.00000</td>\n",
       "      <td>Reject</td>\n",
       "    </tr>\n",
       "    <tr>\n",
       "      <th>3</th>\n",
       "      <td>decease</td>\n",
       "      <td>epoc</td>\n",
       "      <td>0.00000</td>\n",
       "      <td>Reject</td>\n",
       "    </tr>\n",
       "    <tr>\n",
       "      <th>4</th>\n",
       "      <td>decease</td>\n",
       "      <td>inmusupr</td>\n",
       "      <td>0.00000</td>\n",
       "      <td>Reject</td>\n",
       "    </tr>\n",
       "    <tr>\n",
       "      <th>5</th>\n",
       "      <td>decease</td>\n",
       "      <td>hipertension</td>\n",
       "      <td>0.00000</td>\n",
       "      <td>Reject</td>\n",
       "    </tr>\n",
       "    <tr>\n",
       "      <th>6</th>\n",
       "      <td>decease</td>\n",
       "      <td>cardiovascular</td>\n",
       "      <td>0.00000</td>\n",
       "      <td>Reject</td>\n",
       "    </tr>\n",
       "    <tr>\n",
       "      <th>7</th>\n",
       "      <td>decease</td>\n",
       "      <td>obesidad</td>\n",
       "      <td>0.00000</td>\n",
       "      <td>Reject</td>\n",
       "    </tr>\n",
       "    <tr>\n",
       "      <th>8</th>\n",
       "      <td>decease</td>\n",
       "      <td>renal_cronica</td>\n",
       "      <td>0.00000</td>\n",
       "      <td>Reject</td>\n",
       "    </tr>\n",
       "  </tbody>\n",
       "</table>\n",
       "</div>"
      ],
      "text/plain": [
       "  Dependent     Independent  p-value NULL Hypothesis\n",
       "0   decease            sexo  0.00000          Reject\n",
       "1   decease        neumonia  0.00000          Reject\n",
       "2   decease        diabetes  0.00000          Reject\n",
       "3   decease            epoc  0.00000          Reject\n",
       "4   decease        inmusupr  0.00000          Reject\n",
       "5   decease    hipertension  0.00000          Reject\n",
       "6   decease  cardiovascular  0.00000          Reject\n",
       "7   decease        obesidad  0.00000          Reject\n",
       "8   decease   renal_cronica  0.00000          Reject"
      ]
     },
     "execution_count": 43,
     "metadata": {},
     "output_type": "execute_result"
    }
   ],
   "source": [
    "result = chi2_analisys(df, 'decease', cat_cols)\n",
    "result"
   ]
  },
  {
   "cell_type": "code",
   "execution_count": null,
   "id": "be4f2bbe-c8a9-487c-bb9b-385274c71bf1",
   "metadata": {},
   "outputs": [],
   "source": []
  }
 ],
 "metadata": {
  "kernelspec": {
   "display_name": "Python 3 (ipykernel)",
   "language": "python",
   "name": "python3"
  },
  "language_info": {
   "codemirror_mode": {
    "name": "ipython",
    "version": 3
   },
   "file_extension": ".py",
   "mimetype": "text/x-python",
   "name": "python",
   "nbconvert_exporter": "python",
   "pygments_lexer": "ipython3",
   "version": "3.10.12"
  }
 },
 "nbformat": 4,
 "nbformat_minor": 5
}
